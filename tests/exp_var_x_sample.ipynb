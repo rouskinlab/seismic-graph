{
 "cells": [
  {
   "cell_type": "code",
   "execution_count": 1,
   "id": "b4feec7e",
   "metadata": {},
   "outputs": [],
   "source": [
    "import os, json, sys\n",
    "sys.path.append(os.path.abspath(os.path.join('..')))\n",
    "import pandas as pd\n",
    "\n",
    "from seismic_graph import Study"
   ]
  },
  {
   "cell_type": "code",
   "execution_count": 2,
   "id": "695886e4",
   "metadata": {},
   "outputs": [],
   "source": [
    "data = []\n",
    "\n",
    "paths = [\n",
    "    '/Users/casper/Documents/HMS/Documents/data/Fede/fede_11.28.23/20200117_IVT4_10C_trimmed__webapp.json',\n",
    "    '/Users/casper/Documents/HMS/Documents/data/Fede/fede_11.28.23/20200117_IVT4_30C_trimmed__webapp.json',\n",
    "    '/Users/casper/Documents/HMS/Documents/data/Fede/fede_11.28.23/20200117_IVT4_42C_trimmed__webapp.json'\n",
    "]\n",
    "\n",
    "for path in paths:\n",
    "    with open (path, 'r') as file:\n",
    "        json_data = json.load(file) \n",
    "        data.append(json_data)\n",
    "\n",
    "study = Study(data=data)\n",
    "df = study.df"
   ]
  },
  {
   "cell_type": "code",
   "execution_count": 3,
   "id": "a0f2ff45",
   "metadata": {},
   "outputs": [
    {
     "name": "stdout",
     "output_type": "stream",
     "text": [
      "['Condition', 'Date', 'Probe', 'PseudoU', 'Purine', 'System', 'Temperature', 'User', 'sample', 'reference', 'num_aligned', 'sequence', 'section', 'cluster', 'section_end', 'section_start', 'positions', 'cov', 'del', 'info', 'ins', 'sub_A', 'sub_C', 'sub_G', 'sub_N', 'sub_T', 'sub_hist', 'sub_rate', 'min_cov']\n"
     ]
    }
   ],
   "source": [
    "column_headers = study.df.columns.tolist()\n",
    "print(column_headers)"
   ]
  },
  {
   "cell_type": "code",
   "execution_count": 4,
   "id": "82c29b8d",
   "metadata": {},
   "outputs": [],
   "source": [
    "sample, reference, section, cluster = study.df.iloc[0][['sample', 'reference', 'section', 'cluster']]"
   ]
  },
  {
   "cell_type": "code",
   "execution_count": 5,
   "id": "864ee384",
   "metadata": {},
   "outputs": [
    {
     "data": {
      "application/vnd.plotly.v1+json": {
       "config": {
        "plotlyServerURL": "https://plot.ly"
       },
       "data": [
        {
         "hovertemplate": "<b>Experimental variable: %{x}<br>Mutation fraction: %{y}<extra></extra>",
         "mode": "lines+markers",
         "name": "G1",
         "text": "Temperature",
         "type": "scatter",
         "x": [
          10,
          30,
          42
         ],
         "y": [
          null,
          null,
          null
         ]
        },
        {
         "hovertemplate": "<b>Experimental variable: %{x}<br>Mutation fraction: %{y}<extra></extra>",
         "mode": "lines+markers",
         "name": "G2",
         "text": "Temperature",
         "type": "scatter",
         "x": [
          10,
          30,
          42
         ],
         "y": [
          null,
          null,
          null
         ]
        },
        {
         "hovertemplate": "<b>Experimental variable: %{x}<br>Mutation fraction: %{y}<extra></extra>",
         "mode": "lines+markers",
         "name": "G3",
         "text": "Temperature",
         "type": "scatter",
         "x": [
          10,
          30,
          42
         ],
         "y": [
          null,
          null,
          null
         ]
        },
        {
         "hovertemplate": "<b>Experimental variable: %{x}<br>Mutation fraction: %{y}<extra></extra>",
         "mode": "lines+markers",
         "name": "A4",
         "text": "Temperature",
         "type": "scatter",
         "x": [
          10,
          30,
          42
         ],
         "y": [
          0.009631,
          0.006426,
          0.008402
         ]
        },
        {
         "hovertemplate": "<b>Experimental variable: %{x}<br>Mutation fraction: %{y}<extra></extra>",
         "mode": "lines+markers",
         "name": "A5",
         "text": "Temperature",
         "type": "scatter",
         "x": [
          10,
          30,
          42
         ],
         "y": [
          0.004656,
          0.003127,
          0.005028
         ]
        },
        {
         "hovertemplate": "<b>Experimental variable: %{x}<br>Mutation fraction: %{y}<extra></extra>",
         "mode": "lines+markers",
         "name": "G6",
         "text": "Temperature",
         "type": "scatter",
         "x": [
          10,
          30,
          42
         ],
         "y": [
          null,
          null,
          null
         ]
        },
        {
         "hovertemplate": "<b>Experimental variable: %{x}<br>Mutation fraction: %{y}<extra></extra>",
         "mode": "lines+markers",
         "name": "A7",
         "text": "Temperature",
         "type": "scatter",
         "x": [
          10,
          30,
          42
         ],
         "y": [
          0.005651,
          0.004101,
          0.00759
         ]
        },
        {
         "hovertemplate": "<b>Experimental variable: %{x}<br>Mutation fraction: %{y}<extra></extra>",
         "mode": "lines+markers",
         "name": "T8",
         "text": "Temperature",
         "type": "scatter",
         "x": [
          10,
          30,
          42
         ],
         "y": [
          null,
          null,
          null
         ]
        },
        {
         "hovertemplate": "<b>Experimental variable: %{x}<br>Mutation fraction: %{y}<extra></extra>",
         "mode": "lines+markers",
         "name": "A9",
         "text": "Temperature",
         "type": "scatter",
         "x": [
          10,
          30,
          42
         ],
         "y": [
          0.005504,
          0.005153,
          0.011835
         ]
        },
        {
         "hovertemplate": "<b>Experimental variable: %{x}<br>Mutation fraction: %{y}<extra></extra>",
         "mode": "lines+markers",
         "name": "T10",
         "text": "Temperature",
         "type": "scatter",
         "x": [
          10,
          30,
          42
         ],
         "y": [
          null,
          null,
          null
         ]
        },
        {
         "hovertemplate": "<b>Experimental variable: %{x}<br>Mutation fraction: %{y}<extra></extra>",
         "mode": "lines+markers",
         "name": "A11",
         "text": "Temperature",
         "type": "scatter",
         "x": [
          10,
          30,
          42
         ],
         "y": [
          0.159292,
          0.049414,
          0.066518
         ]
        },
        {
         "hovertemplate": "<b>Experimental variable: %{x}<br>Mutation fraction: %{y}<extra></extra>",
         "mode": "lines+markers",
         "name": "A12",
         "text": "Temperature",
         "type": "scatter",
         "x": [
          10,
          30,
          42
         ],
         "y": [
          0.170774,
          0.06187,
          0.101494
         ]
        },
        {
         "hovertemplate": "<b>Experimental variable: %{x}<br>Mutation fraction: %{y}<extra></extra>",
         "mode": "lines+markers",
         "name": "T13",
         "text": "Temperature",
         "type": "scatter",
         "x": [
          10,
          30,
          42
         ],
         "y": [
          null,
          null,
          null
         ]
        },
        {
         "hovertemplate": "<b>Experimental variable: %{x}<br>Mutation fraction: %{y}<extra></extra>",
         "mode": "lines+markers",
         "name": "C14",
         "text": "Temperature",
         "type": "scatter",
         "x": [
          10,
          30,
          42
         ],
         "y": [
          0.002062,
          0.003846,
          0.006158
         ]
        },
        {
         "hovertemplate": "<b>Experimental variable: %{x}<br>Mutation fraction: %{y}<extra></extra>",
         "mode": "lines+markers",
         "name": "C15",
         "text": "Temperature",
         "type": "scatter",
         "x": [
          10,
          30,
          42
         ],
         "y": [
          0.002025,
          0.004378,
          0.008188
         ]
        },
        {
         "hovertemplate": "<b>Experimental variable: %{x}<br>Mutation fraction: %{y}<extra></extra>",
         "mode": "lines+markers",
         "name": "T16",
         "text": "Temperature",
         "type": "scatter",
         "x": [
          10,
          30,
          42
         ],
         "y": [
          null,
          null,
          null
         ]
        },
        {
         "hovertemplate": "<b>Experimental variable: %{x}<br>Mutation fraction: %{y}<extra></extra>",
         "mode": "lines+markers",
         "name": "A17",
         "text": "Temperature",
         "type": "scatter",
         "x": [
          10,
          30,
          42
         ],
         "y": [
          0.007895,
          0.012023,
          0.020787
         ]
        },
        {
         "hovertemplate": "<b>Experimental variable: %{x}<br>Mutation fraction: %{y}<extra></extra>",
         "mode": "lines+markers",
         "name": "A18",
         "text": "Temperature",
         "type": "scatter",
         "x": [
          10,
          30,
          42
         ],
         "y": [
          0.007421,
          0.010311,
          0.023072
         ]
        },
        {
         "hovertemplate": "<b>Experimental variable: %{x}<br>Mutation fraction: %{y}<extra></extra>",
         "mode": "lines+markers",
         "name": "T19",
         "text": "Temperature",
         "type": "scatter",
         "x": [
          10,
          30,
          42
         ],
         "y": [
          null,
          null,
          null
         ]
        },
        {
         "hovertemplate": "<b>Experimental variable: %{x}<br>Mutation fraction: %{y}<extra></extra>",
         "mode": "lines+markers",
         "name": "G20",
         "text": "Temperature",
         "type": "scatter",
         "x": [
          10,
          30,
          42
         ],
         "y": [
          null,
          null,
          null
         ]
        },
        {
         "hovertemplate": "<b>Experimental variable: %{x}<br>Mutation fraction: %{y}<extra></extra>",
         "mode": "lines+markers",
         "name": "A21",
         "text": "Temperature",
         "type": "scatter",
         "x": [
          10,
          30,
          42
         ],
         "y": [
          0.009326,
          0.017624,
          0.052922
         ]
        },
        {
         "hovertemplate": "<b>Experimental variable: %{x}<br>Mutation fraction: %{y}<extra></extra>",
         "mode": "lines+markers",
         "name": "T22",
         "text": "Temperature",
         "type": "scatter",
         "x": [
          10,
          30,
          42
         ],
         "y": [
          null,
          null,
          null
         ]
        },
        {
         "hovertemplate": "<b>Experimental variable: %{x}<br>Mutation fraction: %{y}<extra></extra>",
         "mode": "lines+markers",
         "name": "A23",
         "text": "Temperature",
         "type": "scatter",
         "x": [
          10,
          30,
          42
         ],
         "y": [
          0.019202,
          0.014025,
          0.045244
         ]
        },
        {
         "hovertemplate": "<b>Experimental variable: %{x}<br>Mutation fraction: %{y}<extra></extra>",
         "mode": "lines+markers",
         "name": "T24",
         "text": "Temperature",
         "type": "scatter",
         "x": [
          10,
          30,
          42
         ],
         "y": [
          null,
          null,
          null
         ]
        },
        {
         "hovertemplate": "<b>Experimental variable: %{x}<br>Mutation fraction: %{y}<extra></extra>",
         "mode": "lines+markers",
         "name": "G25",
         "text": "Temperature",
         "type": "scatter",
         "x": [
          10,
          30,
          42
         ],
         "y": [
          null,
          null,
          null
         ]
        },
        {
         "hovertemplate": "<b>Experimental variable: %{x}<br>Mutation fraction: %{y}<extra></extra>",
         "mode": "lines+markers",
         "name": "G26",
         "text": "Temperature",
         "type": "scatter",
         "x": [
          10,
          30,
          42
         ],
         "y": [
          null,
          null,
          null
         ]
        },
        {
         "hovertemplate": "<b>Experimental variable: %{x}<br>Mutation fraction: %{y}<extra></extra>",
         "mode": "lines+markers",
         "name": "T27",
         "text": "Temperature",
         "type": "scatter",
         "x": [
          10,
          30,
          42
         ],
         "y": [
          null,
          null,
          null
         ]
        },
        {
         "hovertemplate": "<b>Experimental variable: %{x}<br>Mutation fraction: %{y}<extra></extra>",
         "mode": "lines+markers",
         "name": "T28",
         "text": "Temperature",
         "type": "scatter",
         "x": [
          10,
          30,
          42
         ],
         "y": [
          null,
          null,
          null
         ]
        },
        {
         "hovertemplate": "<b>Experimental variable: %{x}<br>Mutation fraction: %{y}<extra></extra>",
         "mode": "lines+markers",
         "name": "T29",
         "text": "Temperature",
         "type": "scatter",
         "x": [
          10,
          30,
          42
         ],
         "y": [
          null,
          null,
          null
         ]
        },
        {
         "hovertemplate": "<b>Experimental variable: %{x}<br>Mutation fraction: %{y}<extra></extra>",
         "mode": "lines+markers",
         "name": "G30",
         "text": "Temperature",
         "type": "scatter",
         "x": [
          10,
          30,
          42
         ],
         "y": [
          null,
          null,
          null
         ]
        },
        {
         "hovertemplate": "<b>Experimental variable: %{x}<br>Mutation fraction: %{y}<extra></extra>",
         "mode": "lines+markers",
         "name": "G31",
         "text": "Temperature",
         "type": "scatter",
         "x": [
          10,
          30,
          42
         ],
         "y": [
          null,
          null,
          null
         ]
        },
        {
         "hovertemplate": "<b>Experimental variable: %{x}<br>Mutation fraction: %{y}<extra></extra>",
         "mode": "lines+markers",
         "name": "G32",
         "text": "Temperature",
         "type": "scatter",
         "x": [
          10,
          30,
          42
         ],
         "y": [
          null,
          null,
          null
         ]
        },
        {
         "hovertemplate": "<b>Experimental variable: %{x}<br>Mutation fraction: %{y}<extra></extra>",
         "mode": "lines+markers",
         "name": "A33",
         "text": "Temperature",
         "type": "scatter",
         "x": [
          10,
          30,
          42
         ],
         "y": [
          0.013964,
          0.012141,
          0.018849
         ]
        },
        {
         "hovertemplate": "<b>Experimental variable: %{x}<br>Mutation fraction: %{y}<extra></extra>",
         "mode": "lines+markers",
         "name": "G34",
         "text": "Temperature",
         "type": "scatter",
         "x": [
          10,
          30,
          42
         ],
         "y": [
          null,
          null,
          null
         ]
        },
        {
         "hovertemplate": "<b>Experimental variable: %{x}<br>Mutation fraction: %{y}<extra></extra>",
         "mode": "lines+markers",
         "name": "T35",
         "text": "Temperature",
         "type": "scatter",
         "x": [
          10,
          30,
          42
         ],
         "y": [
          null,
          null,
          null
         ]
        },
        {
         "hovertemplate": "<b>Experimental variable: %{x}<br>Mutation fraction: %{y}<extra></extra>",
         "mode": "lines+markers",
         "name": "T36",
         "text": "Temperature",
         "type": "scatter",
         "x": [
          10,
          30,
          42
         ],
         "y": [
          null,
          null,
          null
         ]
        },
        {
         "hovertemplate": "<b>Experimental variable: %{x}<br>Mutation fraction: %{y}<extra></extra>",
         "mode": "lines+markers",
         "name": "T37",
         "text": "Temperature",
         "type": "scatter",
         "x": [
          10,
          30,
          42
         ],
         "y": [
          null,
          null,
          null
         ]
        },
        {
         "hovertemplate": "<b>Experimental variable: %{x}<br>Mutation fraction: %{y}<extra></extra>",
         "mode": "lines+markers",
         "name": "C38",
         "text": "Temperature",
         "type": "scatter",
         "x": [
          10,
          30,
          42
         ],
         "y": [
          0.13791,
          0.062978,
          0.12326
         ]
        },
        {
         "hovertemplate": "<b>Experimental variable: %{x}<br>Mutation fraction: %{y}<extra></extra>",
         "mode": "lines+markers",
         "name": "T39",
         "text": "Temperature",
         "type": "scatter",
         "x": [
          10,
          30,
          42
         ],
         "y": [
          null,
          null,
          null
         ]
        },
        {
         "hovertemplate": "<b>Experimental variable: %{x}<br>Mutation fraction: %{y}<extra></extra>",
         "mode": "lines+markers",
         "name": "A40",
         "text": "Temperature",
         "type": "scatter",
         "x": [
          10,
          30,
          42
         ],
         "y": [
          0.033775,
          0.033189,
          0.098458
         ]
        },
        {
         "hovertemplate": "<b>Experimental variable: %{x}<br>Mutation fraction: %{y}<extra></extra>",
         "mode": "lines+markers",
         "name": "C41",
         "text": "Temperature",
         "type": "scatter",
         "x": [
          10,
          30,
          42
         ],
         "y": [
          0.018959,
          0.030972,
          0.117498
         ]
        },
        {
         "hovertemplate": "<b>Experimental variable: %{x}<br>Mutation fraction: %{y}<extra></extra>",
         "mode": "lines+markers",
         "name": "C42",
         "text": "Temperature",
         "type": "scatter",
         "x": [
          10,
          30,
          42
         ],
         "y": [
          0.007734,
          0.008541,
          0.014185
         ]
        },
        {
         "hovertemplate": "<b>Experimental variable: %{x}<br>Mutation fraction: %{y}<extra></extra>",
         "mode": "lines+markers",
         "name": "A43",
         "text": "Temperature",
         "type": "scatter",
         "x": [
          10,
          30,
          42
         ],
         "y": [
          0.008067,
          0.009296,
          0.014923
         ]
        },
        {
         "hovertemplate": "<b>Experimental variable: %{x}<br>Mutation fraction: %{y}<extra></extra>",
         "mode": "lines+markers",
         "name": "A44",
         "text": "Temperature",
         "type": "scatter",
         "x": [
          10,
          30,
          42
         ],
         "y": [
          0.012525,
          0.010845,
          0.017209
         ]
        },
        {
         "hovertemplate": "<b>Experimental variable: %{x}<br>Mutation fraction: %{y}<extra></extra>",
         "mode": "lines+markers",
         "name": "G45",
         "text": "Temperature",
         "type": "scatter",
         "x": [
          10,
          30,
          42
         ],
         "y": [
          null,
          null,
          null
         ]
        },
        {
         "hovertemplate": "<b>Experimental variable: %{x}<br>Mutation fraction: %{y}<extra></extra>",
         "mode": "lines+markers",
         "name": "A46",
         "text": "Temperature",
         "type": "scatter",
         "x": [
          10,
          30,
          42
         ],
         "y": [
          0.011125,
          0.011324,
          0.017511
         ]
        },
        {
         "hovertemplate": "<b>Experimental variable: %{x}<br>Mutation fraction: %{y}<extra></extra>",
         "mode": "lines+markers",
         "name": "G47",
         "text": "Temperature",
         "type": "scatter",
         "x": [
          10,
          30,
          42
         ],
         "y": [
          null,
          null,
          null
         ]
        },
        {
         "hovertemplate": "<b>Experimental variable: %{x}<br>Mutation fraction: %{y}<extra></extra>",
         "mode": "lines+markers",
         "name": "C48",
         "text": "Temperature",
         "type": "scatter",
         "x": [
          10,
          30,
          42
         ],
         "y": [
          0.003786,
          0.009498,
          0.027033
         ]
        },
        {
         "hovertemplate": "<b>Experimental variable: %{x}<br>Mutation fraction: %{y}<extra></extra>",
         "mode": "lines+markers",
         "name": "C49",
         "text": "Temperature",
         "type": "scatter",
         "x": [
          10,
          30,
          42
         ],
         "y": [
          0.003871,
          0.008039,
          0.027995
         ]
        },
        {
         "hovertemplate": "<b>Experimental variable: %{x}<br>Mutation fraction: %{y}<extra></extra>",
         "mode": "lines+markers",
         "name": "T50",
         "text": "Temperature",
         "type": "scatter",
         "x": [
          10,
          30,
          42
         ],
         "y": [
          null,
          null,
          null
         ]
        },
        {
         "hovertemplate": "<b>Experimental variable: %{x}<br>Mutation fraction: %{y}<extra></extra>",
         "mode": "lines+markers",
         "name": "T51",
         "text": "Temperature",
         "type": "scatter",
         "x": [
          10,
          30,
          42
         ],
         "y": [
          null,
          null,
          null
         ]
        },
        {
         "hovertemplate": "<b>Experimental variable: %{x}<br>Mutation fraction: %{y}<extra></extra>",
         "mode": "lines+markers",
         "name": "A52",
         "text": "Temperature",
         "type": "scatter",
         "x": [
          10,
          30,
          42
         ],
         "y": [
          0.009206,
          0.011363,
          0.047111
         ]
        },
        {
         "hovertemplate": "<b>Experimental variable: %{x}<br>Mutation fraction: %{y}<extra></extra>",
         "mode": "lines+markers",
         "name": "A53",
         "text": "Temperature",
         "type": "scatter",
         "x": [
          10,
          30,
          42
         ],
         "y": [
          0.014758,
          0.021605,
          0.071686
         ]
        },
        {
         "hovertemplate": "<b>Experimental variable: %{x}<br>Mutation fraction: %{y}<extra></extra>",
         "mode": "lines+markers",
         "name": "A54",
         "text": "Temperature",
         "type": "scatter",
         "x": [
          10,
          30,
          42
         ],
         "y": [
          0.017382,
          0.034482,
          0.148933
         ]
        },
        {
         "hovertemplate": "<b>Experimental variable: %{x}<br>Mutation fraction: %{y}<extra></extra>",
         "mode": "lines+markers",
         "name": "C55",
         "text": "Temperature",
         "type": "scatter",
         "x": [
          10,
          30,
          42
         ],
         "y": [
          0.001528,
          0.001542,
          0.002788
         ]
        },
        {
         "hovertemplate": "<b>Experimental variable: %{x}<br>Mutation fraction: %{y}<extra></extra>",
         "mode": "lines+markers",
         "name": "T56",
         "text": "Temperature",
         "type": "scatter",
         "x": [
          10,
          30,
          42
         ],
         "y": [
          null,
          null,
          null
         ]
        },
        {
         "hovertemplate": "<b>Experimental variable: %{x}<br>Mutation fraction: %{y}<extra></extra>",
         "mode": "lines+markers",
         "name": "C57",
         "text": "Temperature",
         "type": "scatter",
         "x": [
          10,
          30,
          42
         ],
         "y": [
          0.00129,
          0.002169,
          0.004871
         ]
        },
        {
         "hovertemplate": "<b>Experimental variable: %{x}<br>Mutation fraction: %{y}<extra></extra>",
         "mode": "lines+markers",
         "name": "T58",
         "text": "Temperature",
         "type": "scatter",
         "x": [
          10,
          30,
          42
         ],
         "y": [
          null,
          null,
          null
         ]
        },
        {
         "hovertemplate": "<b>Experimental variable: %{x}<br>Mutation fraction: %{y}<extra></extra>",
         "mode": "lines+markers",
         "name": "T59",
         "text": "Temperature",
         "type": "scatter",
         "x": [
          10,
          30,
          42
         ],
         "y": [
          null,
          null,
          null
         ]
        },
        {
         "hovertemplate": "<b>Experimental variable: %{x}<br>Mutation fraction: %{y}<extra></extra>",
         "mode": "lines+markers",
         "name": "G60",
         "text": "Temperature",
         "type": "scatter",
         "x": [
          10,
          30,
          42
         ],
         "y": [
          null,
          null,
          null
         ]
        },
        {
         "hovertemplate": "<b>Experimental variable: %{x}<br>Mutation fraction: %{y}<extra></extra>",
         "mode": "lines+markers",
         "name": "A61",
         "text": "Temperature",
         "type": "scatter",
         "x": [
          10,
          30,
          42
         ],
         "y": [
          0.124868,
          0.061371,
          0.119237
         ]
        },
        {
         "hovertemplate": "<b>Experimental variable: %{x}<br>Mutation fraction: %{y}<extra></extra>",
         "mode": "lines+markers",
         "name": "T62",
         "text": "Temperature",
         "type": "scatter",
         "x": [
          10,
          30,
          42
         ],
         "y": [
          null,
          null,
          null
         ]
        },
        {
         "hovertemplate": "<b>Experimental variable: %{x}<br>Mutation fraction: %{y}<extra></extra>",
         "mode": "lines+markers",
         "name": "T63",
         "text": "Temperature",
         "type": "scatter",
         "x": [
          10,
          30,
          42
         ],
         "y": [
          null,
          null,
          null
         ]
        },
        {
         "hovertemplate": "<b>Experimental variable: %{x}<br>Mutation fraction: %{y}<extra></extra>",
         "mode": "lines+markers",
         "name": "A64",
         "text": "Temperature",
         "type": "scatter",
         "x": [
          10,
          30,
          42
         ],
         "y": [
          0.00346,
          0.002272,
          0.004803
         ]
        },
        {
         "hovertemplate": "<b>Experimental variable: %{x}<br>Mutation fraction: %{y}<extra></extra>",
         "mode": "lines+markers",
         "name": "T65",
         "text": "Temperature",
         "type": "scatter",
         "x": [
          10,
          30,
          42
         ],
         "y": [
          null,
          null,
          null
         ]
        },
        {
         "hovertemplate": "<b>Experimental variable: %{x}<br>Mutation fraction: %{y}<extra></extra>",
         "mode": "lines+markers",
         "name": "C66",
         "text": "Temperature",
         "type": "scatter",
         "x": [
          10,
          30,
          42
         ],
         "y": [
          0.000709,
          0.000875,
          0.001911
         ]
        },
        {
         "hovertemplate": "<b>Experimental variable: %{x}<br>Mutation fraction: %{y}<extra></extra>",
         "mode": "lines+markers",
         "name": "T67",
         "text": "Temperature",
         "type": "scatter",
         "x": [
          10,
          30,
          42
         ],
         "y": [
          null,
          null,
          null
         ]
        },
        {
         "hovertemplate": "<b>Experimental variable: %{x}<br>Mutation fraction: %{y}<extra></extra>",
         "mode": "lines+markers",
         "name": "T68",
         "text": "Temperature",
         "type": "scatter",
         "x": [
          10,
          30,
          42
         ],
         "y": [
          null,
          null,
          null
         ]
        },
        {
         "hovertemplate": "<b>Experimental variable: %{x}<br>Mutation fraction: %{y}<extra></extra>",
         "mode": "lines+markers",
         "name": "C69",
         "text": "Temperature",
         "type": "scatter",
         "x": [
          10,
          30,
          42
         ],
         "y": [
          0.009623,
          0.010218,
          0.017155
         ]
        },
        {
         "hovertemplate": "<b>Experimental variable: %{x}<br>Mutation fraction: %{y}<extra></extra>",
         "mode": "lines+markers",
         "name": "C70",
         "text": "Temperature",
         "type": "scatter",
         "x": [
          10,
          30,
          42
         ],
         "y": [
          0.023023,
          0.02209,
          0.019911
         ]
        },
        {
         "hovertemplate": "<b>Experimental variable: %{x}<br>Mutation fraction: %{y}<extra></extra>",
         "mode": "lines+markers",
         "name": "C71",
         "text": "Temperature",
         "type": "scatter",
         "x": [
          10,
          30,
          42
         ],
         "y": [
          0,
          0,
          0
         ]
        }
       ],
       "layout": {
        "paper_bgcolor": "white",
        "plot_bgcolor": "white",
        "template": {
         "data": {
          "bar": [
           {
            "error_x": {
             "color": "#2a3f5f"
            },
            "error_y": {
             "color": "#2a3f5f"
            },
            "marker": {
             "line": {
              "color": "#E5ECF6",
              "width": 0.5
             },
             "pattern": {
              "fillmode": "overlay",
              "size": 10,
              "solidity": 0.2
             }
            },
            "type": "bar"
           }
          ],
          "barpolar": [
           {
            "marker": {
             "line": {
              "color": "#E5ECF6",
              "width": 0.5
             },
             "pattern": {
              "fillmode": "overlay",
              "size": 10,
              "solidity": 0.2
             }
            },
            "type": "barpolar"
           }
          ],
          "carpet": [
           {
            "aaxis": {
             "endlinecolor": "#2a3f5f",
             "gridcolor": "white",
             "linecolor": "white",
             "minorgridcolor": "white",
             "startlinecolor": "#2a3f5f"
            },
            "baxis": {
             "endlinecolor": "#2a3f5f",
             "gridcolor": "white",
             "linecolor": "white",
             "minorgridcolor": "white",
             "startlinecolor": "#2a3f5f"
            },
            "type": "carpet"
           }
          ],
          "choropleth": [
           {
            "colorbar": {
             "outlinewidth": 0,
             "ticks": ""
            },
            "type": "choropleth"
           }
          ],
          "contour": [
           {
            "colorbar": {
             "outlinewidth": 0,
             "ticks": ""
            },
            "colorscale": [
             [
              0,
              "#0d0887"
             ],
             [
              0.1111111111111111,
              "#46039f"
             ],
             [
              0.2222222222222222,
              "#7201a8"
             ],
             [
              0.3333333333333333,
              "#9c179e"
             ],
             [
              0.4444444444444444,
              "#bd3786"
             ],
             [
              0.5555555555555556,
              "#d8576b"
             ],
             [
              0.6666666666666666,
              "#ed7953"
             ],
             [
              0.7777777777777778,
              "#fb9f3a"
             ],
             [
              0.8888888888888888,
              "#fdca26"
             ],
             [
              1,
              "#f0f921"
             ]
            ],
            "type": "contour"
           }
          ],
          "contourcarpet": [
           {
            "colorbar": {
             "outlinewidth": 0,
             "ticks": ""
            },
            "type": "contourcarpet"
           }
          ],
          "heatmap": [
           {
            "colorbar": {
             "outlinewidth": 0,
             "ticks": ""
            },
            "colorscale": [
             [
              0,
              "#0d0887"
             ],
             [
              0.1111111111111111,
              "#46039f"
             ],
             [
              0.2222222222222222,
              "#7201a8"
             ],
             [
              0.3333333333333333,
              "#9c179e"
             ],
             [
              0.4444444444444444,
              "#bd3786"
             ],
             [
              0.5555555555555556,
              "#d8576b"
             ],
             [
              0.6666666666666666,
              "#ed7953"
             ],
             [
              0.7777777777777778,
              "#fb9f3a"
             ],
             [
              0.8888888888888888,
              "#fdca26"
             ],
             [
              1,
              "#f0f921"
             ]
            ],
            "type": "heatmap"
           }
          ],
          "heatmapgl": [
           {
            "colorbar": {
             "outlinewidth": 0,
             "ticks": ""
            },
            "colorscale": [
             [
              0,
              "#0d0887"
             ],
             [
              0.1111111111111111,
              "#46039f"
             ],
             [
              0.2222222222222222,
              "#7201a8"
             ],
             [
              0.3333333333333333,
              "#9c179e"
             ],
             [
              0.4444444444444444,
              "#bd3786"
             ],
             [
              0.5555555555555556,
              "#d8576b"
             ],
             [
              0.6666666666666666,
              "#ed7953"
             ],
             [
              0.7777777777777778,
              "#fb9f3a"
             ],
             [
              0.8888888888888888,
              "#fdca26"
             ],
             [
              1,
              "#f0f921"
             ]
            ],
            "type": "heatmapgl"
           }
          ],
          "histogram": [
           {
            "marker": {
             "pattern": {
              "fillmode": "overlay",
              "size": 10,
              "solidity": 0.2
             }
            },
            "type": "histogram"
           }
          ],
          "histogram2d": [
           {
            "colorbar": {
             "outlinewidth": 0,
             "ticks": ""
            },
            "colorscale": [
             [
              0,
              "#0d0887"
             ],
             [
              0.1111111111111111,
              "#46039f"
             ],
             [
              0.2222222222222222,
              "#7201a8"
             ],
             [
              0.3333333333333333,
              "#9c179e"
             ],
             [
              0.4444444444444444,
              "#bd3786"
             ],
             [
              0.5555555555555556,
              "#d8576b"
             ],
             [
              0.6666666666666666,
              "#ed7953"
             ],
             [
              0.7777777777777778,
              "#fb9f3a"
             ],
             [
              0.8888888888888888,
              "#fdca26"
             ],
             [
              1,
              "#f0f921"
             ]
            ],
            "type": "histogram2d"
           }
          ],
          "histogram2dcontour": [
           {
            "colorbar": {
             "outlinewidth": 0,
             "ticks": ""
            },
            "colorscale": [
             [
              0,
              "#0d0887"
             ],
             [
              0.1111111111111111,
              "#46039f"
             ],
             [
              0.2222222222222222,
              "#7201a8"
             ],
             [
              0.3333333333333333,
              "#9c179e"
             ],
             [
              0.4444444444444444,
              "#bd3786"
             ],
             [
              0.5555555555555556,
              "#d8576b"
             ],
             [
              0.6666666666666666,
              "#ed7953"
             ],
             [
              0.7777777777777778,
              "#fb9f3a"
             ],
             [
              0.8888888888888888,
              "#fdca26"
             ],
             [
              1,
              "#f0f921"
             ]
            ],
            "type": "histogram2dcontour"
           }
          ],
          "mesh3d": [
           {
            "colorbar": {
             "outlinewidth": 0,
             "ticks": ""
            },
            "type": "mesh3d"
           }
          ],
          "parcoords": [
           {
            "line": {
             "colorbar": {
              "outlinewidth": 0,
              "ticks": ""
             }
            },
            "type": "parcoords"
           }
          ],
          "pie": [
           {
            "automargin": true,
            "type": "pie"
           }
          ],
          "scatter": [
           {
            "fillpattern": {
             "fillmode": "overlay",
             "size": 10,
             "solidity": 0.2
            },
            "type": "scatter"
           }
          ],
          "scatter3d": [
           {
            "line": {
             "colorbar": {
              "outlinewidth": 0,
              "ticks": ""
             }
            },
            "marker": {
             "colorbar": {
              "outlinewidth": 0,
              "ticks": ""
             }
            },
            "type": "scatter3d"
           }
          ],
          "scattercarpet": [
           {
            "marker": {
             "colorbar": {
              "outlinewidth": 0,
              "ticks": ""
             }
            },
            "type": "scattercarpet"
           }
          ],
          "scattergeo": [
           {
            "marker": {
             "colorbar": {
              "outlinewidth": 0,
              "ticks": ""
             }
            },
            "type": "scattergeo"
           }
          ],
          "scattergl": [
           {
            "marker": {
             "colorbar": {
              "outlinewidth": 0,
              "ticks": ""
             }
            },
            "type": "scattergl"
           }
          ],
          "scattermapbox": [
           {
            "marker": {
             "colorbar": {
              "outlinewidth": 0,
              "ticks": ""
             }
            },
            "type": "scattermapbox"
           }
          ],
          "scatterpolar": [
           {
            "marker": {
             "colorbar": {
              "outlinewidth": 0,
              "ticks": ""
             }
            },
            "type": "scatterpolar"
           }
          ],
          "scatterpolargl": [
           {
            "marker": {
             "colorbar": {
              "outlinewidth": 0,
              "ticks": ""
             }
            },
            "type": "scatterpolargl"
           }
          ],
          "scatterternary": [
           {
            "marker": {
             "colorbar": {
              "outlinewidth": 0,
              "ticks": ""
             }
            },
            "type": "scatterternary"
           }
          ],
          "surface": [
           {
            "colorbar": {
             "outlinewidth": 0,
             "ticks": ""
            },
            "colorscale": [
             [
              0,
              "#0d0887"
             ],
             [
              0.1111111111111111,
              "#46039f"
             ],
             [
              0.2222222222222222,
              "#7201a8"
             ],
             [
              0.3333333333333333,
              "#9c179e"
             ],
             [
              0.4444444444444444,
              "#bd3786"
             ],
             [
              0.5555555555555556,
              "#d8576b"
             ],
             [
              0.6666666666666666,
              "#ed7953"
             ],
             [
              0.7777777777777778,
              "#fb9f3a"
             ],
             [
              0.8888888888888888,
              "#fdca26"
             ],
             [
              1,
              "#f0f921"
             ]
            ],
            "type": "surface"
           }
          ],
          "table": [
           {
            "cells": {
             "fill": {
              "color": "#EBF0F8"
             },
             "line": {
              "color": "white"
             }
            },
            "header": {
             "fill": {
              "color": "#C8D4E3"
             },
             "line": {
              "color": "white"
             }
            },
            "type": "table"
           }
          ]
         },
         "layout": {
          "annotationdefaults": {
           "arrowcolor": "#2a3f5f",
           "arrowhead": 0,
           "arrowwidth": 1
          },
          "autotypenumbers": "strict",
          "coloraxis": {
           "colorbar": {
            "outlinewidth": 0,
            "ticks": ""
           }
          },
          "colorscale": {
           "diverging": [
            [
             0,
             "#8e0152"
            ],
            [
             0.1,
             "#c51b7d"
            ],
            [
             0.2,
             "#de77ae"
            ],
            [
             0.3,
             "#f1b6da"
            ],
            [
             0.4,
             "#fde0ef"
            ],
            [
             0.5,
             "#f7f7f7"
            ],
            [
             0.6,
             "#e6f5d0"
            ],
            [
             0.7,
             "#b8e186"
            ],
            [
             0.8,
             "#7fbc41"
            ],
            [
             0.9,
             "#4d9221"
            ],
            [
             1,
             "#276419"
            ]
           ],
           "sequential": [
            [
             0,
             "#0d0887"
            ],
            [
             0.1111111111111111,
             "#46039f"
            ],
            [
             0.2222222222222222,
             "#7201a8"
            ],
            [
             0.3333333333333333,
             "#9c179e"
            ],
            [
             0.4444444444444444,
             "#bd3786"
            ],
            [
             0.5555555555555556,
             "#d8576b"
            ],
            [
             0.6666666666666666,
             "#ed7953"
            ],
            [
             0.7777777777777778,
             "#fb9f3a"
            ],
            [
             0.8888888888888888,
             "#fdca26"
            ],
            [
             1,
             "#f0f921"
            ]
           ],
           "sequentialminus": [
            [
             0,
             "#0d0887"
            ],
            [
             0.1111111111111111,
             "#46039f"
            ],
            [
             0.2222222222222222,
             "#7201a8"
            ],
            [
             0.3333333333333333,
             "#9c179e"
            ],
            [
             0.4444444444444444,
             "#bd3786"
            ],
            [
             0.5555555555555556,
             "#d8576b"
            ],
            [
             0.6666666666666666,
             "#ed7953"
            ],
            [
             0.7777777777777778,
             "#fb9f3a"
            ],
            [
             0.8888888888888888,
             "#fdca26"
            ],
            [
             1,
             "#f0f921"
            ]
           ]
          },
          "colorway": [
           "#636efa",
           "#EF553B",
           "#00cc96",
           "#ab63fa",
           "#FFA15A",
           "#19d3f3",
           "#FF6692",
           "#B6E880",
           "#FF97FF",
           "#FECB52"
          ],
          "font": {
           "color": "#2a3f5f"
          },
          "geo": {
           "bgcolor": "white",
           "lakecolor": "white",
           "landcolor": "#E5ECF6",
           "showlakes": true,
           "showland": true,
           "subunitcolor": "white"
          },
          "hoverlabel": {
           "align": "left"
          },
          "hovermode": "closest",
          "mapbox": {
           "style": "light"
          },
          "paper_bgcolor": "white",
          "plot_bgcolor": "#E5ECF6",
          "polar": {
           "angularaxis": {
            "gridcolor": "white",
            "linecolor": "white",
            "ticks": ""
           },
           "bgcolor": "#E5ECF6",
           "radialaxis": {
            "gridcolor": "white",
            "linecolor": "white",
            "ticks": ""
           }
          },
          "scene": {
           "xaxis": {
            "backgroundcolor": "#E5ECF6",
            "gridcolor": "white",
            "gridwidth": 2,
            "linecolor": "white",
            "showbackground": true,
            "ticks": "",
            "zerolinecolor": "white"
           },
           "yaxis": {
            "backgroundcolor": "#E5ECF6",
            "gridcolor": "white",
            "gridwidth": 2,
            "linecolor": "white",
            "showbackground": true,
            "ticks": "",
            "zerolinecolor": "white"
           },
           "zaxis": {
            "backgroundcolor": "#E5ECF6",
            "gridcolor": "white",
            "gridwidth": 2,
            "linecolor": "white",
            "showbackground": true,
            "ticks": "",
            "zerolinecolor": "white"
           }
          },
          "shapedefaults": {
           "line": {
            "color": "#2a3f5f"
           }
          },
          "ternary": {
           "aaxis": {
            "gridcolor": "white",
            "linecolor": "white",
            "ticks": ""
           },
           "baxis": {
            "gridcolor": "white",
            "linecolor": "white",
            "ticks": ""
           },
           "bgcolor": "#E5ECF6",
           "caxis": {
            "gridcolor": "white",
            "linecolor": "white",
            "ticks": ""
           }
          },
          "title": {
           "x": 0.05
          },
          "xaxis": {
           "automargin": true,
           "gridcolor": "white",
           "linecolor": "white",
           "ticks": "",
           "title": {
            "standoff": 15
           },
           "zerolinecolor": "white",
           "zerolinewidth": 2
          },
          "yaxis": {
           "automargin": true,
           "gridcolor": "white",
           "linecolor": "white",
           "ticks": "",
           "title": {
            "standoff": 15
           },
           "zerolinecolor": "white",
           "zerolinewidth": 2
          }
         }
        },
        "title": {
         "text": "Mutation rates across experimental variable - Temperature"
        },
        "xaxis": {
         "autorange": true,
         "linecolor": "black",
         "linewidth": 1,
         "mirror": true,
         "title": {
          "text": "Temperature"
         }
        },
        "yaxis": {
         "gridcolor": "lightgray",
         "linecolor": "black",
         "linewidth": 1,
         "mirror": true,
         "title": {
          "text": "Mutation fraction"
         }
        }
       }
      }
     },
     "metadata": {},
     "output_type": "display_data"
    }
   ],
   "source": [
    "fig = study.experimental_variable_across_samples(\n",
    "    experimental_variable='Temperature',\n",
    "    # sample=[sample],\n",
    "    reference = [reference],\n",
    "    section = [section],\n",
    "    cluster = [cluster],\n",
    ")['fig']\n",
    "fig.show()"
   ]
  },
  {
   "cell_type": "code",
   "execution_count": 6,
   "id": "aac248eb",
   "metadata": {},
   "outputs": [
    {
     "data": {
      "text/plain": [
       "'C10'"
      ]
     },
     "execution_count": 6,
     "metadata": {},
     "output_type": "execute_result"
    }
   ],
   "source": [
    "reference"
   ]
  },
  {
   "cell_type": "code",
   "execution_count": 36,
   "id": "63372a45",
   "metadata": {},
   "outputs": [
    {
     "name": "stdout",
     "output_type": "stream",
     "text": [
      "No valid plots could be created with the given position filter.\n"
     ]
    },
    {
     "data": {
      "application/vnd.plotly.v1+json": {
       "config": {
        "plotlyServerURL": "https://plot.ly"
       },
       "data": [],
       "layout": {
        "template": {
         "data": {
          "bar": [
           {
            "error_x": {
             "color": "#2a3f5f"
            },
            "error_y": {
             "color": "#2a3f5f"
            },
            "marker": {
             "line": {
              "color": "#E5ECF6",
              "width": 0.5
             },
             "pattern": {
              "fillmode": "overlay",
              "size": 10,
              "solidity": 0.2
             }
            },
            "type": "bar"
           }
          ],
          "barpolar": [
           {
            "marker": {
             "line": {
              "color": "#E5ECF6",
              "width": 0.5
             },
             "pattern": {
              "fillmode": "overlay",
              "size": 10,
              "solidity": 0.2
             }
            },
            "type": "barpolar"
           }
          ],
          "carpet": [
           {
            "aaxis": {
             "endlinecolor": "#2a3f5f",
             "gridcolor": "white",
             "linecolor": "white",
             "minorgridcolor": "white",
             "startlinecolor": "#2a3f5f"
            },
            "baxis": {
             "endlinecolor": "#2a3f5f",
             "gridcolor": "white",
             "linecolor": "white",
             "minorgridcolor": "white",
             "startlinecolor": "#2a3f5f"
            },
            "type": "carpet"
           }
          ],
          "choropleth": [
           {
            "colorbar": {
             "outlinewidth": 0,
             "ticks": ""
            },
            "type": "choropleth"
           }
          ],
          "contour": [
           {
            "colorbar": {
             "outlinewidth": 0,
             "ticks": ""
            },
            "colorscale": [
             [
              0,
              "#0d0887"
             ],
             [
              0.1111111111111111,
              "#46039f"
             ],
             [
              0.2222222222222222,
              "#7201a8"
             ],
             [
              0.3333333333333333,
              "#9c179e"
             ],
             [
              0.4444444444444444,
              "#bd3786"
             ],
             [
              0.5555555555555556,
              "#d8576b"
             ],
             [
              0.6666666666666666,
              "#ed7953"
             ],
             [
              0.7777777777777778,
              "#fb9f3a"
             ],
             [
              0.8888888888888888,
              "#fdca26"
             ],
             [
              1,
              "#f0f921"
             ]
            ],
            "type": "contour"
           }
          ],
          "contourcarpet": [
           {
            "colorbar": {
             "outlinewidth": 0,
             "ticks": ""
            },
            "type": "contourcarpet"
           }
          ],
          "heatmap": [
           {
            "colorbar": {
             "outlinewidth": 0,
             "ticks": ""
            },
            "colorscale": [
             [
              0,
              "#0d0887"
             ],
             [
              0.1111111111111111,
              "#46039f"
             ],
             [
              0.2222222222222222,
              "#7201a8"
             ],
             [
              0.3333333333333333,
              "#9c179e"
             ],
             [
              0.4444444444444444,
              "#bd3786"
             ],
             [
              0.5555555555555556,
              "#d8576b"
             ],
             [
              0.6666666666666666,
              "#ed7953"
             ],
             [
              0.7777777777777778,
              "#fb9f3a"
             ],
             [
              0.8888888888888888,
              "#fdca26"
             ],
             [
              1,
              "#f0f921"
             ]
            ],
            "type": "heatmap"
           }
          ],
          "heatmapgl": [
           {
            "colorbar": {
             "outlinewidth": 0,
             "ticks": ""
            },
            "colorscale": [
             [
              0,
              "#0d0887"
             ],
             [
              0.1111111111111111,
              "#46039f"
             ],
             [
              0.2222222222222222,
              "#7201a8"
             ],
             [
              0.3333333333333333,
              "#9c179e"
             ],
             [
              0.4444444444444444,
              "#bd3786"
             ],
             [
              0.5555555555555556,
              "#d8576b"
             ],
             [
              0.6666666666666666,
              "#ed7953"
             ],
             [
              0.7777777777777778,
              "#fb9f3a"
             ],
             [
              0.8888888888888888,
              "#fdca26"
             ],
             [
              1,
              "#f0f921"
             ]
            ],
            "type": "heatmapgl"
           }
          ],
          "histogram": [
           {
            "marker": {
             "pattern": {
              "fillmode": "overlay",
              "size": 10,
              "solidity": 0.2
             }
            },
            "type": "histogram"
           }
          ],
          "histogram2d": [
           {
            "colorbar": {
             "outlinewidth": 0,
             "ticks": ""
            },
            "colorscale": [
             [
              0,
              "#0d0887"
             ],
             [
              0.1111111111111111,
              "#46039f"
             ],
             [
              0.2222222222222222,
              "#7201a8"
             ],
             [
              0.3333333333333333,
              "#9c179e"
             ],
             [
              0.4444444444444444,
              "#bd3786"
             ],
             [
              0.5555555555555556,
              "#d8576b"
             ],
             [
              0.6666666666666666,
              "#ed7953"
             ],
             [
              0.7777777777777778,
              "#fb9f3a"
             ],
             [
              0.8888888888888888,
              "#fdca26"
             ],
             [
              1,
              "#f0f921"
             ]
            ],
            "type": "histogram2d"
           }
          ],
          "histogram2dcontour": [
           {
            "colorbar": {
             "outlinewidth": 0,
             "ticks": ""
            },
            "colorscale": [
             [
              0,
              "#0d0887"
             ],
             [
              0.1111111111111111,
              "#46039f"
             ],
             [
              0.2222222222222222,
              "#7201a8"
             ],
             [
              0.3333333333333333,
              "#9c179e"
             ],
             [
              0.4444444444444444,
              "#bd3786"
             ],
             [
              0.5555555555555556,
              "#d8576b"
             ],
             [
              0.6666666666666666,
              "#ed7953"
             ],
             [
              0.7777777777777778,
              "#fb9f3a"
             ],
             [
              0.8888888888888888,
              "#fdca26"
             ],
             [
              1,
              "#f0f921"
             ]
            ],
            "type": "histogram2dcontour"
           }
          ],
          "mesh3d": [
           {
            "colorbar": {
             "outlinewidth": 0,
             "ticks": ""
            },
            "type": "mesh3d"
           }
          ],
          "parcoords": [
           {
            "line": {
             "colorbar": {
              "outlinewidth": 0,
              "ticks": ""
             }
            },
            "type": "parcoords"
           }
          ],
          "pie": [
           {
            "automargin": true,
            "type": "pie"
           }
          ],
          "scatter": [
           {
            "fillpattern": {
             "fillmode": "overlay",
             "size": 10,
             "solidity": 0.2
            },
            "type": "scatter"
           }
          ],
          "scatter3d": [
           {
            "line": {
             "colorbar": {
              "outlinewidth": 0,
              "ticks": ""
             }
            },
            "marker": {
             "colorbar": {
              "outlinewidth": 0,
              "ticks": ""
             }
            },
            "type": "scatter3d"
           }
          ],
          "scattercarpet": [
           {
            "marker": {
             "colorbar": {
              "outlinewidth": 0,
              "ticks": ""
             }
            },
            "type": "scattercarpet"
           }
          ],
          "scattergeo": [
           {
            "marker": {
             "colorbar": {
              "outlinewidth": 0,
              "ticks": ""
             }
            },
            "type": "scattergeo"
           }
          ],
          "scattergl": [
           {
            "marker": {
             "colorbar": {
              "outlinewidth": 0,
              "ticks": ""
             }
            },
            "type": "scattergl"
           }
          ],
          "scattermapbox": [
           {
            "marker": {
             "colorbar": {
              "outlinewidth": 0,
              "ticks": ""
             }
            },
            "type": "scattermapbox"
           }
          ],
          "scatterpolar": [
           {
            "marker": {
             "colorbar": {
              "outlinewidth": 0,
              "ticks": ""
             }
            },
            "type": "scatterpolar"
           }
          ],
          "scatterpolargl": [
           {
            "marker": {
             "colorbar": {
              "outlinewidth": 0,
              "ticks": ""
             }
            },
            "type": "scatterpolargl"
           }
          ],
          "scatterternary": [
           {
            "marker": {
             "colorbar": {
              "outlinewidth": 0,
              "ticks": ""
             }
            },
            "type": "scatterternary"
           }
          ],
          "surface": [
           {
            "colorbar": {
             "outlinewidth": 0,
             "ticks": ""
            },
            "colorscale": [
             [
              0,
              "#0d0887"
             ],
             [
              0.1111111111111111,
              "#46039f"
             ],
             [
              0.2222222222222222,
              "#7201a8"
             ],
             [
              0.3333333333333333,
              "#9c179e"
             ],
             [
              0.4444444444444444,
              "#bd3786"
             ],
             [
              0.5555555555555556,
              "#d8576b"
             ],
             [
              0.6666666666666666,
              "#ed7953"
             ],
             [
              0.7777777777777778,
              "#fb9f3a"
             ],
             [
              0.8888888888888888,
              "#fdca26"
             ],
             [
              1,
              "#f0f921"
             ]
            ],
            "type": "surface"
           }
          ],
          "table": [
           {
            "cells": {
             "fill": {
              "color": "#EBF0F8"
             },
             "line": {
              "color": "white"
             }
            },
            "header": {
             "fill": {
              "color": "#C8D4E3"
             },
             "line": {
              "color": "white"
             }
            },
            "type": "table"
           }
          ]
         },
         "layout": {
          "annotationdefaults": {
           "arrowcolor": "#2a3f5f",
           "arrowhead": 0,
           "arrowwidth": 1
          },
          "autotypenumbers": "strict",
          "coloraxis": {
           "colorbar": {
            "outlinewidth": 0,
            "ticks": ""
           }
          },
          "colorscale": {
           "diverging": [
            [
             0,
             "#8e0152"
            ],
            [
             0.1,
             "#c51b7d"
            ],
            [
             0.2,
             "#de77ae"
            ],
            [
             0.3,
             "#f1b6da"
            ],
            [
             0.4,
             "#fde0ef"
            ],
            [
             0.5,
             "#f7f7f7"
            ],
            [
             0.6,
             "#e6f5d0"
            ],
            [
             0.7,
             "#b8e186"
            ],
            [
             0.8,
             "#7fbc41"
            ],
            [
             0.9,
             "#4d9221"
            ],
            [
             1,
             "#276419"
            ]
           ],
           "sequential": [
            [
             0,
             "#0d0887"
            ],
            [
             0.1111111111111111,
             "#46039f"
            ],
            [
             0.2222222222222222,
             "#7201a8"
            ],
            [
             0.3333333333333333,
             "#9c179e"
            ],
            [
             0.4444444444444444,
             "#bd3786"
            ],
            [
             0.5555555555555556,
             "#d8576b"
            ],
            [
             0.6666666666666666,
             "#ed7953"
            ],
            [
             0.7777777777777778,
             "#fb9f3a"
            ],
            [
             0.8888888888888888,
             "#fdca26"
            ],
            [
             1,
             "#f0f921"
            ]
           ],
           "sequentialminus": [
            [
             0,
             "#0d0887"
            ],
            [
             0.1111111111111111,
             "#46039f"
            ],
            [
             0.2222222222222222,
             "#7201a8"
            ],
            [
             0.3333333333333333,
             "#9c179e"
            ],
            [
             0.4444444444444444,
             "#bd3786"
            ],
            [
             0.5555555555555556,
             "#d8576b"
            ],
            [
             0.6666666666666666,
             "#ed7953"
            ],
            [
             0.7777777777777778,
             "#fb9f3a"
            ],
            [
             0.8888888888888888,
             "#fdca26"
            ],
            [
             1,
             "#f0f921"
            ]
           ]
          },
          "colorway": [
           "#636efa",
           "#EF553B",
           "#00cc96",
           "#ab63fa",
           "#FFA15A",
           "#19d3f3",
           "#FF6692",
           "#B6E880",
           "#FF97FF",
           "#FECB52"
          ],
          "font": {
           "color": "#2a3f5f"
          },
          "geo": {
           "bgcolor": "white",
           "lakecolor": "white",
           "landcolor": "#E5ECF6",
           "showlakes": true,
           "showland": true,
           "subunitcolor": "white"
          },
          "hoverlabel": {
           "align": "left"
          },
          "hovermode": "closest",
          "mapbox": {
           "style": "light"
          },
          "paper_bgcolor": "white",
          "plot_bgcolor": "#E5ECF6",
          "polar": {
           "angularaxis": {
            "gridcolor": "white",
            "linecolor": "white",
            "ticks": ""
           },
           "bgcolor": "#E5ECF6",
           "radialaxis": {
            "gridcolor": "white",
            "linecolor": "white",
            "ticks": ""
           }
          },
          "scene": {
           "xaxis": {
            "backgroundcolor": "#E5ECF6",
            "gridcolor": "white",
            "gridwidth": 2,
            "linecolor": "white",
            "showbackground": true,
            "ticks": "",
            "zerolinecolor": "white"
           },
           "yaxis": {
            "backgroundcolor": "#E5ECF6",
            "gridcolor": "white",
            "gridwidth": 2,
            "linecolor": "white",
            "showbackground": true,
            "ticks": "",
            "zerolinecolor": "white"
           },
           "zaxis": {
            "backgroundcolor": "#E5ECF6",
            "gridcolor": "white",
            "gridwidth": 2,
            "linecolor": "white",
            "showbackground": true,
            "ticks": "",
            "zerolinecolor": "white"
           }
          },
          "shapedefaults": {
           "line": {
            "color": "#2a3f5f"
           }
          },
          "ternary": {
           "aaxis": {
            "gridcolor": "white",
            "linecolor": "white",
            "ticks": ""
           },
           "baxis": {
            "gridcolor": "white",
            "linecolor": "white",
            "ticks": ""
           },
           "bgcolor": "#E5ECF6",
           "caxis": {
            "gridcolor": "white",
            "linecolor": "white",
            "ticks": ""
           }
          },
          "title": {
           "x": 0.05
          },
          "xaxis": {
           "automargin": true,
           "gridcolor": "white",
           "linecolor": "white",
           "ticks": "",
           "title": {
            "standoff": 15
           },
           "zerolinecolor": "white",
           "zerolinewidth": 2
          },
          "yaxis": {
           "automargin": true,
           "gridcolor": "white",
           "linecolor": "white",
           "ticks": "",
           "title": {
            "standoff": 15
           },
           "zerolinecolor": "white",
           "zerolinewidth": 2
          }
         }
        }
       }
      }
     },
     "metadata": {},
     "output_type": "display_data"
    }
   ],
   "source": [
    "fig = study.compare_mutation_profiles(\n",
    "    # sample=[sample],\n",
    "    reference = [reference],\n",
    "    section = [section],\n",
    "    cluster = [cluster],\n",
    "    # positions_to_compare=[1,2,3,4,5,6,7,8]\n",
    "    # positions_to_compare=[38, 61]\n",
    "    positions_to_compare=[10000]\n",
    "    # positions_to_compare=None\n",
    ")['fig']\n",
    "fig.show()"
   ]
  },
  {
   "cell_type": "code",
   "execution_count": 21,
   "id": "b598fdb5",
   "metadata": {},
   "outputs": [
    {
     "data": {
      "text/plain": [
       "'GGGAAGATATAATCCTAATGATATGGTTTGGGAGTTTCTACCAAGAGCCTTAAACTCTTGATTATCTTCCC'"
      ]
     },
     "execution_count": 21,
     "metadata": {},
     "output_type": "execute_result"
    }
   ],
   "source": [
    "# df[df[\"reference\"]==reference][\"sequence\"].iloc[0][60]\n",
    "df[df[\"reference\"]==reference][\"sequence\"].iloc[0]"
   ]
  },
  {
   "cell_type": "code",
   "execution_count": 25,
   "id": "70cbe1f2",
   "metadata": {},
   "outputs": [
    {
     "data": {
      "text/plain": [
       "'A'"
      ]
     },
     "execution_count": 25,
     "metadata": {},
     "output_type": "execute_result"
    }
   ],
   "source": [
    "df[df[\"reference\"]==reference][\"sequence\"].iloc[0][3]"
   ]
  },
  {
   "cell_type": "code",
   "execution_count": null,
   "id": "687a9d2a",
   "metadata": {},
   "outputs": [],
   "source": []
  }
 ],
 "metadata": {
  "kernelspec": {
   "display_name": "seismic-graph",
   "language": "python",
   "name": "python3"
  },
  "language_info": {
   "codemirror_mode": {
    "name": "ipython",
    "version": 3
   },
   "file_extension": ".py",
   "mimetype": "text/x-python",
   "name": "python",
   "nbconvert_exporter": "python",
   "pygments_lexer": "ipython3",
   "version": "3.10.13"
  }
 },
 "nbformat": 4,
 "nbformat_minor": 5
}
